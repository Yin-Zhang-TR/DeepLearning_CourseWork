{
  "nbformat": 4,
  "nbformat_minor": 0,
  "metadata": {
    "colab": {
      "name": "Untitled0.ipynb",
      "version": "0.3.2",
      "provenance": [],
      "include_colab_link": true
    },
    "kernelspec": {
      "name": "python3",
      "display_name": "Python 3"
    },
    "accelerator": "GPU"
  },
  "cells": [
    {
      "cell_type": "markdown",
      "metadata": {
        "id": "view-in-github",
        "colab_type": "text"
      },
      "source": [
        "<a href=\"https://colab.research.google.com/github/Yin-Zhang-TR/DeepLearning_CourseWork/blob/master/AX%202019.ipynb\" target=\"_parent\"><img src=\"https://colab.research.google.com/assets/colab-badge.svg\" alt=\"Open In Colab\"/></a>"
      ]
    },
    {
      "metadata": {
        "id": "T4JgG_PWYW-A",
        "colab_type": "code",
        "colab": {
          "base_uri": "https://localhost:8080/",
          "height": 34
        },
        "cellView": "form",
        "outputId": "273da90a-4c6b-452d-a9cc-7a048478cff5"
      },
      "cell_type": "code",
      "source": [
        "#@title Run this to import the right things\n",
        "from __future__ import absolute_import\n",
        "from __future__ import division\n",
        "from __future__ import print_function\n",
        "\n",
        "import collections\n",
        "import math\n",
        "import os\n",
        "import random\n",
        "from six.moves import urllib\n",
        "import io\n",
        "import shutil\n",
        "\n",
        "from IPython.display import clear_output, Image, display, HTML\n",
        "\n",
        "\n",
        "import tensorflow as tf\n",
        "import tensorflow_hub as hub\n",
        "\n",
        "import numpy as np\n",
        "import matplotlib.pyplot as plt\n",
        "import seaborn as sns\n",
        "import sklearn.metrics as sk_metrics\n",
        "import time\n",
        "import scipy.io as sio\n",
        "from tensorflow.python.keras.applications.resnet50 import preprocess_input\n",
        "from tensorflow.python.keras.preprocessing.image import ImageDataGenerator\n",
        "\n",
        "from keras.applications.inception_v3 import InceptionV3\n",
        "from keras.applications.resnet50 import preprocess_input, decode_predictions, ResNet50\n",
        "from keras.preprocessing import image\n",
        "from keras import regularizers\n",
        "from keras.models import Model\n",
        "from keras.layers import Dense, GlobalAveragePooling2D, BatchNormalization, Dropout, Flatten\n",
        "from keras import backend as K\n",
        "from keras.utils import np_utils"
      ],
      "execution_count": 2,
      "outputs": [
        {
          "output_type": "stream",
          "text": [
            "Using TensorFlow backend.\n"
          ],
          "name": "stderr"
        }
      ]
    },
    {
      "metadata": {
        "id": "kLcnUhftY1g9",
        "colab_type": "code",
        "colab": {
          "base_uri": "https://localhost:8080/",
          "height": 85
        },
        "cellView": "form",
        "outputId": "6b716c78-57e7-4033-c6ca-7e1e621b4317"
      },
      "cell_type": "code",
      "source": [
        "#@title Load the SVHN data sets [RUN ME]\n",
        "SVHN_DIR = './svhn_photos'\n",
        "TRAIN_FRACTION = 0.8\n",
        "RANDOM_SEED = 2018\n",
        "\n",
        "\n",
        "def download_images():\n",
        "  \"\"\"If the images aren't already downloaded, save them to FLOWERS_DIR.\"\"\"\n",
        "  if not os.path.exists(SVHN_DIR):    \n",
        "    TRAIN_DOWNLOAD_URL = 'http://ufldl.stanford.edu/housenumbers/train_32x32.mat'\n",
        "    print('Downloading SVHN Train images from %s...' % TRAIN_DOWNLOAD_URL)\n",
        "    urllib.request.urlretrieve(TRAIN_DOWNLOAD_URL, 'train_32x32.mat')\n",
        "    #!tar xfz train.tgz\n",
        "    \n",
        "    TEST_DOWNLOAD_URL = 'http://ufldl.stanford.edu/housenumbers/test_32x32.mat'\n",
        "    print('Downloading SVHN Test images from %s...' % TEST_DOWNLOAD_URL)\n",
        "    urllib.request.urlretrieve(TEST_DOWNLOAD_URL, 'test_32x32.mat')\n",
        "    \n",
        "    EXTRA_DOWNLOAD_URL = 'http://ufldl.stanford.edu/housenumbers/extra_32x32.mat'\n",
        "    print('Downloading SVHN Extra images from %s...' % EXTRA_DOWNLOAD_URL)\n",
        "    urllib.request.urlretrieve(EXTRA_DOWNLOAD_URL, 'extra_32x32.mat')\n",
        "    #!tar xfz test.tgz\n",
        "  print('SVHN photos are located in %s' % SVHN_DIR)\n",
        "  \n",
        "download_images()\n",
        "\n",
        "# train_file = './svhn_photos/train/digitStruct.mat'\n",
        "# test_file  = './svhn_photos/test/digitStruct.mat'\n",
        "\n",
        "# train_data = h5py.File(train_file, 'r')\n",
        "# test_data = h5py.File(test_file, 'r')\n"
      ],
      "execution_count": 3,
      "outputs": [
        {
          "output_type": "stream",
          "text": [
            "Downloading SVHN Train images from http://ufldl.stanford.edu/housenumbers/train_32x32.mat...\n",
            "Downloading SVHN Test images from http://ufldl.stanford.edu/housenumbers/test_32x32.mat...\n",
            "Downloading SVHN Extra images from http://ufldl.stanford.edu/housenumbers/extra_32x32.mat...\n",
            "SVHN photos are located in ./svhn_photos\n"
          ],
          "name": "stdout"
        }
      ]
    },
    {
      "metadata": {
        "id": "5azkIzk5sxh1",
        "colab_type": "code",
        "colab": {
          "base_uri": "https://localhost:8080/",
          "height": 114
        },
        "outputId": "4dd6c67f-41e0-4d09-d93c-9c257a62c7bb"
      },
      "cell_type": "code",
      "source": [
        "# !ls svhn_photos\n",
        "# !rm -r test* train* svhn_photos\n",
        "!ls"
      ],
      "execution_count": 2,
      "outputs": [
        {
          "output_type": "stream",
          "text": [
            "ls: cannot access 'svhn_photos': No such file or directory\n",
            "base_line_fit_generator.h5\t       extra_32x32.mat\ttest_32x32.mat\n",
            "base_line_fit_generator_without_bn.h5  first_try.h5\ttrain_32x32.mat\n",
            "base_line.h5\t\t\t       sample_data\n"
          ],
          "name": "stdout"
        }
      ]
    },
    {
      "metadata": {
        "id": "3U-a404ejspY",
        "colab_type": "code",
        "colab": {
          "base_uri": "https://localhost:8080/",
          "height": 119
        },
        "outputId": "511393ea-a644-47d7-9ffe-60b39e738d8a"
      },
      "cell_type": "code",
      "source": [
        "train_file = './train_32x32.mat'\n",
        "test_file  = './test_32x32.mat'\n",
        "extra_file = './extra_32x32.mat'\n",
        "\n",
        "# train_data, train_lables = sio.loadmat(train_file)\n",
        "# test_data, test_lables = sio.loadmat(test_file)\n",
        "\n",
        "train_data = sio.loadmat(train_file)\n",
        "test_data = sio.loadmat(test_file)\n",
        "extra_data = sio.loadmat(extra_file)\n",
        "print(train_data.keys())\n",
        "# print(train_data['X'])\n",
        "print(train_data['X'].shape)\n",
        "print(train_data['y'].reshape(len(train_data['y']),).shape)\n",
        "\n",
        "print(train_data['X'].mean(axis=(3)).shape)\n",
        "print(train_data['X'][:,:,:,np.where(train_data['y'] == 1)[0]].mean(axis=3).shape)\n",
        "# print(train_data['X'][:,:,:,np.where(train_data['y'] == 1)[0]].mean(axis=3))\n",
        "# print(train_data['X'][:,:,:,np.where(train_data['y'] == 1)].mean(axis=(4))[:,:,0,0])\n",
        "\n",
        "\n",
        "train_data_std = train_data['X'][:,:,:,np.where(train_data['y'] == 1)[0]].std(axis=3)\n",
        "print(train_data['X'][:,:,:,np.where(train_data['y'] == 1)[0]].std(axis=3).shape)"
      ],
      "execution_count": 4,
      "outputs": [
        {
          "output_type": "stream",
          "text": [
            "dict_keys(['__header__', '__version__', '__globals__', 'X', 'y'])\n",
            "(32, 32, 3, 73257)\n",
            "(73257,)\n",
            "(32, 32, 3)\n",
            "(32, 32, 3)\n",
            "(32, 32, 3)\n"
          ],
          "name": "stdout"
        }
      ]
    },
    {
      "metadata": {
        "id": "Axx4lvXP1wtp",
        "colab_type": "code",
        "colab": {
          "base_uri": "https://localhost:8080/",
          "height": 415
        },
        "outputId": "5f83e4c0-9c1b-4e53-ea3a-242dd49fd0b6"
      },
      "cell_type": "code",
      "source": [
        "fig = plt.figure()\n",
        "ax = fig.add_subplot(1, 1, 1)\n",
        "\n",
        "plt.hist(train_data['y'], bins=10)\n",
        "\n",
        "# plt.violinplot(train_data_std[:,:,0],\n",
        "#                showmeans=False,\n",
        "#                showmedians=True\n",
        "#                )\n",
        "\n"
      ],
      "execution_count": 4,
      "outputs": [
        {
          "output_type": "execute_result",
          "data": {
            "text/plain": [
              "(array([13861., 10585.,  8497.,  7458.,  6882.,  5727.,  5595.,  5045.,\n",
              "         4659.,  4948.]),\n",
              " array([ 1. ,  1.9,  2.8,  3.7,  4.6,  5.5,  6.4,  7.3,  8.2,  9.1, 10. ]),\n",
              " <a list of 10 Patch objects>)"
            ]
          },
          "metadata": {
            "tags": []
          },
          "execution_count": 4
        },
        {
          "output_type": "display_data",
          "data": {
            "image/png": "[encoded data removed]",
            "text/plain": [
              "<Figure size 576x396 with 1 Axes>"
            ]
          },
          "metadata": {
            "tags": []
          }
        }
      ]
    },
    {
      "metadata": {
        "id": "9y01A4BZO8Pl",
        "colab_type": "code",
        "colab": {
          "base_uri": "https://localhost:8080/",
          "height": 1210
        },
        "outputId": "a6e99b0d-fa77-4594-8ef1-a26cfb057ffd"
      },
      "cell_type": "code",
      "source": [
        "from keras import layers\n",
        "from keras import models\n",
        "from keras import optimizers\n",
        "from keras import losses\n",
        "\n",
        "input_shape=(32, 32, 3)\n",
        "\n",
        "# model = models.Sequential()\n",
        "# model.add(layers.Conv2D(32, (3, 3), activation='relu', input_shape=(32, 32, 3)))\n",
        "# model.add(layers.BatchNormalization())\n",
        "# model.add(layers.MaxPooling2D((2, 2)))\n",
        "# model.add(layers.Conv2D(64, (3, 3), activation='relu'))\n",
        "# model.add(layers.BatchNormalization())\n",
        "# model.add(layers.MaxPooling2D((2, 2)))\n",
        "# model.add(layers.Conv2D(64, (3, 3), activation='relu'))\n",
        "# model.add(layers.BatchNormalization())\n",
        "# model.add(layers.MaxPooling2D((2, 2)))\n",
        "# model.add(layers.Flatten())\n",
        "# model.add(layers.Dense(64, activation='relu'))\n",
        "# model.add(layers.Dropout(0.5))\n",
        "# # model.add(layers.Dense(11, activation='softmax'))\n",
        "# model.add(layers.Dense(11, activation='sigmoid'))\n",
        "# model.summary()\n",
        "\n",
        "model = models.Sequential()\n",
        "model.add(layers.Conv2D(32, kernel_size=(3, 3), input_shape=input_shape, padding=\"same\"))\n",
        "model.add(layers.BatchNormalization())\n",
        "model.add(layers.Activation('relu'))\n",
        "model.add(layers.Conv2D(32, (3, 3), padding=\"same\"))\n",
        "model.add(layers.BatchNormalization())\n",
        "model.add(layers.Activation('relu'))\n",
        "model.add(layers.MaxPooling2D(pool_size=2))\n",
        "model.add(layers.Dropout(0.3))\n",
        "\n",
        "model.add(layers.Conv2D(64, (3, 3)))\n",
        "model.add(layers.BatchNormalization())\n",
        "model.add(layers.Activation('relu'))\n",
        "model.add(layers.Conv2D(64, (3, 3), padding=\"same\"))\n",
        "model.add(layers.BatchNormalization())\n",
        "model.add(layers.Activation('relu'))\n",
        "model.add(layers.MaxPooling2D(pool_size=2))\n",
        "model.add(layers.Dropout(0.3))\n",
        "\n",
        "model.add(layers.Conv2D(128, (3, 3)))\n",
        "model.add(layers.BatchNormalization())\n",
        "model.add(layers.Activation('relu'))\n",
        "model.add(layers.Conv2D(128, (3, 3), padding=\"same\"))\n",
        "model.add(layers.BatchNormalization())\n",
        "model.add(layers.Activation('relu'))\n",
        "model.add(layers.MaxPooling2D(pool_size=2))\n",
        "model.add(layers.Dropout(0.3))\n",
        "\n",
        "model.add(layers.Flatten())\n",
        "model.add(layers.Dense(512, activation='relu'))\n",
        "model.add(layers.Dropout(0.3))\n",
        "\n",
        "model.add(layers.Dense(11, activation='softmax'))\n",
        "model.summary()\n",
        "\n",
        "lr = 0.1 #learning_rate\n",
        "optimizers = {\"SGD\": optimizers.SGD(lr=lr), \"RMSprop\": optimizers.RMSprop(lr=lr),\n",
        "              \"Adadelta\": optimizers.Adadelta(lr=lr), \"Adam\": optimizers.Adam(lr=lr)}\n",
        "\n",
        "model.compile(loss=losses.categorical_crossentropy,\n",
        "              optimizer=optimizers['SGD'],\n",
        "              metrics=['accuracy'])"
      ],
      "execution_count": 4,
      "outputs": [
        {
          "output_type": "stream",
          "text": [
            "WARNING:tensorflow:From /usr/local/lib/python3.6/dist-packages/tensorflow/python/framework/op_def_library.py:263: colocate_with (from tensorflow.python.framework.ops) is deprecated and will be removed in a future version.\n",
            "Instructions for updating:\n",
            "Colocations handled automatically by placer.\n",
            "WARNING:tensorflow:From /usr/local/lib/python3.6/dist-packages/keras/backend/tensorflow_backend.py:3445: calling dropout (from tensorflow.python.ops.nn_ops) with keep_prob is deprecated and will be removed in a future version.\n",
            "Instructions for updating:\n",
            "Please use `rate` instead of `keep_prob`. Rate should be set to `rate = 1 - keep_prob`.\n",
            "_________________________________________________________________\n",
            "Layer (type)                 Output Shape              Param #   \n",
            "=================================================================\n",
            "conv2d_1 (Conv2D)            (None, 32, 32, 32)        896       \n",
            "_________________________________________________________________\n",
            "batch_normalization_1 (Batch (None, 32, 32, 32)        128       \n",
            "_________________________________________________________________\n",
            "activation_1 (Activation)    (None, 32, 32, 32)        0         \n",
            "_________________________________________________________________\n",
            "conv2d_2 (Conv2D)            (None, 32, 32, 32)        9248      \n",
            "_________________________________________________________________\n",
            "batch_normalization_2 (Batch (None, 32, 32, 32)        128       \n",
            "_________________________________________________________________\n",
            "activation_2 (Activation)    (None, 32, 32, 32)        0         \n",
            "_________________________________________________________________\n",
            "max_pooling2d_1 (MaxPooling2 (None, 16, 16, 32)        0         \n",
            "_________________________________________________________________\n",
            "dropout_1 (Dropout)          (None, 16, 16, 32)        0         \n",
            "_________________________________________________________________\n",
            "conv2d_3 (Conv2D)            (None, 14, 14, 64)        18496     \n",
            "_________________________________________________________________\n",
            "batch_normalization_3 (Batch (None, 14, 14, 64)        256       \n",
            "_________________________________________________________________\n",
            "activation_3 (Activation)    (None, 14, 14, 64)        0         \n",
            "_________________________________________________________________\n",
            "conv2d_4 (Conv2D)            (None, 14, 14, 64)        36928     \n",
            "_________________________________________________________________\n",
            "batch_normalization_4 (Batch (None, 14, 14, 64)        256       \n",
            "_________________________________________________________________\n",
            "activation_4 (Activation)    (None, 14, 14, 64)        0         \n",
            "_________________________________________________________________\n",
            "max_pooling2d_2 (MaxPooling2 (None, 7, 7, 64)          0         \n",
            "_________________________________________________________________\n",
            "dropout_2 (Dropout)          (None, 7, 7, 64)          0         \n",
            "_________________________________________________________________\n",
            "conv2d_5 (Conv2D)            (None, 5, 5, 128)         73856     \n",
            "_________________________________________________________________\n",
            "batch_normalization_5 (Batch (None, 5, 5, 128)         512       \n",
            "_________________________________________________________________\n",
            "activation_5 (Activation)    (None, 5, 5, 128)         0         \n",
            "_________________________________________________________________\n",
            "conv2d_6 (Conv2D)            (None, 5, 5, 128)         147584    \n",
            "_________________________________________________________________\n",
            "batch_normalization_6 (Batch (None, 5, 5, 128)         512       \n",
            "_________________________________________________________________\n",
            "activation_6 (Activation)    (None, 5, 5, 128)         0         \n",
            "_________________________________________________________________\n",
            "max_pooling2d_3 (MaxPooling2 (None, 2, 2, 128)         0         \n",
            "_________________________________________________________________\n",
            "dropout_3 (Dropout)          (None, 2, 2, 128)         0         \n",
            "_________________________________________________________________\n",
            "flatten_1 (Flatten)          (None, 512)               0         \n",
            "_________________________________________________________________\n",
            "dense_1 (Dense)              (None, 512)               262656    \n",
            "_________________________________________________________________\n",
            "dropout_4 (Dropout)          (None, 512)               0         \n",
            "_________________________________________________________________\n",
            "dense_2 (Dense)              (None, 11)                5643      \n",
            "=================================================================\n",
            "Total params: 557,099\n",
            "Trainable params: 556,203\n",
            "Non-trainable params: 896\n",
            "_________________________________________________________________\n"
          ],
          "name": "stdout"
        }
      ]
    },
    {
      "metadata": {
        "id": "u_EYCgphPTiR",
        "colab_type": "code",
        "colab": {
          "base_uri": "https://localhost:8080/",
          "height": 1005
        },
        "outputId": "310fc4db-d184-4b81-8a6a-bc06d7a690cb"
      },
      "cell_type": "code",
      "source": [
        "batch_size = 64\n",
        "\n",
        "traindata = train_data['X'].transpose(3,0,1,2).astype('float32')\n",
        "testdata = test_data['X'].transpose(3,0,1,2).astype('float32')\n",
        "trainlabel = train_data['y']\n",
        "testlabel = test_data['y']\n",
        "# print(traindata.shape)\n",
        "# print(trainlabel.shape)\n",
        "# print(train_data['y'].shape)\n",
        "\n",
        "trainlabel = np_utils.to_categorical(trainlabel, 11)\n",
        "testlabel = np_utils.to_categorical(testlabel, 11)\n",
        "\n",
        "data_generator = ImageDataGenerator(preprocessing_function=preprocess_input, rescale=1./255)\n",
        "\n",
        "train_generator      = data_generator.flow(traindata, trainlabel, batch_size=batch_size)\n",
        "validation_generator = data_generator.flow(testdata, testlabel, batch_size=batch_size)\n",
        "\n",
        "# model.compile(optimizer='rmsprop',\n",
        "#               loss='sparse_categorical_crossentropy',\n",
        "#               metrics=['accuracy'])\n",
        "\n",
        "\n",
        "# model.fit(traindata, trainlabel, epochs=10, batch_size=batch_size)\n",
        "# model.save('base_line_fit.h5')\n",
        "\n",
        "\n",
        "\n",
        "# model.compile(optimizer='rmsprop',\n",
        "#               loss='sparse_categorical_crossentropy',\n",
        "#               metrics=['accuracy'])\n",
        "\n",
        "history = model.fit_generator(\n",
        "      train_generator,\n",
        "      steps_per_epoch=len(traindata)/batch_size,\n",
        "      epochs=10,\n",
        "      validation_data=validation_generator,\n",
        "      validation_steps=len(testdata)/batch_size)\n",
        "\n",
        "model.save('base_line_fit_generator.h5')\n"
      ],
      "execution_count": 5,
      "outputs": [
        {
          "output_type": "stream",
          "text": [
            "WARNING:tensorflow:From /usr/local/lib/python3.6/dist-packages/tensorflow/python/ops/math_ops.py:3066: to_int32 (from tensorflow.python.ops.math_ops) is deprecated and will be removed in a future version.\n",
            "Instructions for updating:\n",
            "Use tf.cast instead.\n",
            "Epoch 1/10\n",
            "1145/1144 [==============================] - 37s 32ms/step - loss: 1.4544 - acc: 0.4980 - val_loss: 0.4202 - val_acc: 0.8737\n",
            "Epoch 2/10\n",
            "1145/1144 [==============================] - 33s 29ms/step - loss: 0.4541 - acc: 0.8608 - val_loss: 0.3297 - val_acc: 0.9016\n",
            "Epoch 3/10\n",
            "1145/1144 [==============================] - 33s 29ms/step - loss: 0.3549 - acc: 0.8935 - val_loss: 0.2625 - val_acc: 0.9256\n",
            "Epoch 4/10\n",
            "1145/1144 [==============================] - 33s 29ms/step - loss: 0.3082 - acc: 0.9074 - val_loss: 0.2874 - val_acc: 0.9173\n",
            "Epoch 5/10\n",
            "1145/1144 [==============================] - 33s 29ms/step - loss: 0.2812 - acc: 0.9167 - val_loss: 0.2220 - val_acc: 0.9392\n",
            "Epoch 6/10\n",
            "1145/1144 [==============================] - 33s 29ms/step - loss: 0.2612 - acc: 0.9233 - val_loss: 0.2237 - val_acc: 0.9373\n",
            "Epoch 7/10\n",
            "1145/1144 [==============================] - 33s 29ms/step - loss: 0.2460 - acc: 0.9276 - val_loss: 0.2054 - val_acc: 0.9433\n",
            "Epoch 8/10\n",
            "1145/1144 [==============================] - 33s 29ms/step - loss: 0.2318 - acc: 0.9315 - val_loss: 0.2062 - val_acc: 0.9435\n",
            "Epoch 9/10\n",
            "1145/1144 [==============================] - 33s 29ms/step - loss: 0.2192 - acc: 0.9362 - val_loss: 0.1882 - val_acc: 0.9489\n",
            "Epoch 10/10\n",
            "1145/1144 [==============================] - 33s 29ms/step - loss: 0.2098 - acc: 0.9382 - val_loss: 0.1840 - val_acc: 0.9498\n"
          ],
          "name": "stdout"
        }
      ]
    },
    {
      "metadata": {
        "id": "fyFps1RO0Tm-",
        "colab_type": "code",
        "colab": {
          "base_uri": "https://localhost:8080/",
          "height": 51
        },
        "outputId": "80bba1c3-de58-4b5e-ad2b-bb72fa7a7d89"
      },
      "cell_type": "code",
      "source": [
        "model.save('base_line.h5')\n",
        "\n",
        "# evaluate the model on the test data\n",
        "test_loss, test_acc = model.evaluate(testdata/255., testlabel)\n",
        "print(test_acc, test_loss)"
      ],
      "execution_count": 9,
      "outputs": [
        {
          "output_type": "stream",
          "text": [
            "26032/26032 [==============================] - 5s 179us/step\n",
            "0.8948217578365089 0.35584520163001937\n"
          ],
          "name": "stdout"
        }
      ]
    },
    {
      "metadata": {
        "id": "TxZooMS84mfh",
        "colab_type": "code",
        "colab": {
          "base_uri": "https://localhost:8080/",
          "height": 1006
        },
        "outputId": "f27ffe89-8919-41b2-e41b-0f68f038ff15"
      },
      "cell_type": "code",
      "source": [
        "from keras import layers\n",
        "from keras import models\n",
        "from keras import optimizers\n",
        "from keras import losses\n",
        "\n",
        "input_shape=(32, 32, 3)\n",
        "\n",
        "model = models.Sequential()\n",
        "model.add(layers.Conv2D(32, kernel_size=(3, 3), input_shape=input_shape, padding=\"same\"))\n",
        "model.add(layers.Activation('relu'))\n",
        "model.add(layers.Conv2D(32, (3, 3), padding=\"same\"))\n",
        "model.add(layers.Activation('relu'))\n",
        "model.add(layers.MaxPooling2D(pool_size=2))\n",
        "model.add(layers.Dropout(0.3))\n",
        "\n",
        "model.add(layers.Conv2D(64, (3, 3)))\n",
        "model.add(layers.Activation('relu'))\n",
        "model.add(layers.Conv2D(64, (3, 3), padding=\"same\"))\n",
        "model.add(layers.Activation('relu'))\n",
        "model.add(layers.MaxPooling2D(pool_size=2))\n",
        "model.add(layers.Dropout(0.3))\n",
        "\n",
        "model.add(layers.Conv2D(128, (3, 3)))\n",
        "model.add(layers.Activation('relu'))\n",
        "model.add(layers.Conv2D(128, (3, 3), padding=\"same\"))\n",
        "model.add(layers.Activation('relu'))\n",
        "model.add(layers.MaxPooling2D(pool_size=2))\n",
        "model.add(layers.Dropout(0.3))\n",
        "\n",
        "model.add(layers.Flatten())\n",
        "model.add(layers.Dense(512, activation='relu'))\n",
        "model.add(layers.Dropout(0.3))\n",
        "\n",
        "model.add(layers.Dense(11, activation='softmax'))\n",
        "model.summary()\n",
        "\n",
        "lr = 0.1 #learning_rate\n",
        "optimizers = {\"SGD\": optimizers.SGD(lr=lr), \"RMSprop\": optimizers.RMSprop(lr=lr),\n",
        "              \"Adadelta\": optimizers.Adadelta(lr=lr), \"Adam\": optimizers.Adam(lr=lr)}\n",
        "\n",
        "model.compile(loss=losses.categorical_crossentropy,\n",
        "              optimizer=optimizers['SGD'],\n",
        "              metrics=['accuracy'])\n"
      ],
      "execution_count": 5,
      "outputs": [
        {
          "output_type": "stream",
          "text": [
            "WARNING:tensorflow:From /usr/local/lib/python3.6/dist-packages/tensorflow/python/framework/op_def_library.py:263: colocate_with (from tensorflow.python.framework.ops) is deprecated and will be removed in a future version.\n",
            "Instructions for updating:\n",
            "Colocations handled automatically by placer.\n",
            "WARNING:tensorflow:From /usr/local/lib/python3.6/dist-packages/keras/backend/tensorflow_backend.py:3445: calling dropout (from tensorflow.python.ops.nn_ops) with keep_prob is deprecated and will be removed in a future version.\n",
            "Instructions for updating:\n",
            "Please use `rate` instead of `keep_prob`. Rate should be set to `rate = 1 - keep_prob`.\n",
            "_________________________________________________________________\n",
            "Layer (type)                 Output Shape              Param #   \n",
            "=================================================================\n",
            "conv2d_1 (Conv2D)            (None, 32, 32, 32)        896       \n",
            "_________________________________________________________________\n",
            "activation_1 (Activation)    (None, 32, 32, 32)        0         \n",
            "_________________________________________________________________\n",
            "conv2d_2 (Conv2D)            (None, 32, 32, 32)        9248      \n",
            "_________________________________________________________________\n",
            "activation_2 (Activation)    (None, 32, 32, 32)        0         \n",
            "_________________________________________________________________\n",
            "max_pooling2d_1 (MaxPooling2 (None, 16, 16, 32)        0         \n",
            "_________________________________________________________________\n",
            "dropout_1 (Dropout)          (None, 16, 16, 32)        0         \n",
            "_________________________________________________________________\n",
            "conv2d_3 (Conv2D)            (None, 14, 14, 64)        18496     \n",
            "_________________________________________________________________\n",
            "activation_3 (Activation)    (None, 14, 14, 64)        0         \n",
            "_________________________________________________________________\n",
            "conv2d_4 (Conv2D)            (None, 14, 14, 64)        36928     \n",
            "_________________________________________________________________\n",
            "activation_4 (Activation)    (None, 14, 14, 64)        0         \n",
            "_________________________________________________________________\n",
            "max_pooling2d_2 (MaxPooling2 (None, 7, 7, 64)          0         \n",
            "_________________________________________________________________\n",
            "dropout_2 (Dropout)          (None, 7, 7, 64)          0         \n",
            "_________________________________________________________________\n",
            "conv2d_5 (Conv2D)            (None, 5, 5, 128)         73856     \n",
            "_________________________________________________________________\n",
            "activation_5 (Activation)    (None, 5, 5, 128)         0         \n",
            "_________________________________________________________________\n",
            "conv2d_6 (Conv2D)            (None, 5, 5, 128)         147584    \n",
            "_________________________________________________________________\n",
            "activation_6 (Activation)    (None, 5, 5, 128)         0         \n",
            "_________________________________________________________________\n",
            "max_pooling2d_3 (MaxPooling2 (None, 2, 2, 128)         0         \n",
            "_________________________________________________________________\n",
            "dropout_3 (Dropout)          (None, 2, 2, 128)         0         \n",
            "_________________________________________________________________\n",
            "flatten_1 (Flatten)          (None, 512)               0         \n",
            "_________________________________________________________________\n",
            "dense_1 (Dense)              (None, 512)               262656    \n",
            "_________________________________________________________________\n",
            "dropout_4 (Dropout)          (None, 512)               0         \n",
            "_________________________________________________________________\n",
            "dense_2 (Dense)              (None, 11)                5643      \n",
            "=================================================================\n",
            "Total params: 555,307\n",
            "Trainable params: 555,307\n",
            "Non-trainable params: 0\n",
            "_________________________________________________________________\n"
          ],
          "name": "stdout"
        }
      ]
    },
    {
      "metadata": {
        "id": "uGxKUX8S4ffw",
        "colab_type": "code",
        "colab": {
          "base_uri": "https://localhost:8080/",
          "height": 115
        },
        "outputId": "27507b41-90d5-4d03-b942-b89622e4744e"
      },
      "cell_type": "code",
      "source": [
        "batch_size = 64\n",
        "\n",
        "traindata = train_data['X'].transpose(3,0,1,2).astype('float32')\n",
        "testdata = test_data['X'].transpose(3,0,1,2).astype('float32')\n",
        "extradata = extra_data['X'].transpose(3,0,1,2).astype('float32')\n",
        "trainlabel = train_data['y']\n",
        "testlabel = test_data['y']\n",
        "extralabel = extra_data['y']\n",
        "\n",
        "\n",
        "trainlabel = np_utils.to_categorical(trainlabel, 11)\n",
        "testlabel = np_utils.to_categorical(testlabel, 11)\n",
        "\n",
        "data_generator = ImageDataGenerator(preprocessing_function=preprocess_input, rescale=1./255)\n",
        "\n",
        "train_generator      = data_generator.flow(traindata, trainlabel, batch_size=batch_size)\n",
        "validation_generator = data_generator.flow(testdata, testlabel, batch_size=batch_size)\n",
        "\n",
        "# model.compile(optimizer='rmsprop',\n",
        "#               loss='sparse_categorical_crossentropy',\n",
        "#               metrics=['accuracy'])\n",
        "\n",
        "\n",
        "# model.fit(traindata, trainlabel, epochs=10, batch_size=batch_size)\n",
        "# model.save('base_line_fit.h5')\n",
        "\n",
        "\n",
        "\n",
        "# model.compile(optimizer='rmsprop',\n",
        "#               loss='sparse_categorical_crossentropy',\n",
        "#               metrics=['accuracy'])\n",
        "\n",
        "history_without_bn = model.fit_generator(\n",
        "      train_generator,\n",
        "      steps_per_epoch=len(traindata)/batch_size,\n",
        "      epochs=10,\n",
        "      validation_data=validation_generator,\n",
        "      validation_steps=len(testdata)/batch_size)\n",
        "\n",
        "model.save('base_line_fit_generator_without_bn.h5')\n",
        "\n"
      ],
      "execution_count": 0,
      "outputs": [
        {
          "output_type": "stream",
          "text": [
            "WARNING:tensorflow:From /usr/local/lib/python3.6/dist-packages/tensorflow/python/ops/math_ops.py:3066: to_int32 (from tensorflow.python.ops.math_ops) is deprecated and will be removed in a future version.\n",
            "Instructions for updating:\n",
            "Use tf.cast instead.\n",
            "Epoch 1/10\n"
          ],
          "name": "stdout"
        }
      ]
    },
    {
      "metadata": {
        "id": "6U9x_jtO6J-m",
        "colab_type": "code",
        "colab": {
          "base_uri": "https://localhost:8080/",
          "height": 232
        },
        "outputId": "3a91e824-5c47-4555-fdcf-1633fb173c70"
      },
      "cell_type": "code",
      "source": [
        "# model.save('base_line.h5')\n",
        "\n",
        "# evaluate the model on the test data\n",
        "test_loss, test_acc = model.evaluate(testdata/255., testlabel)\n",
        "print(test_acc, test_loss)\n",
        "\n",
        "\n",
        "# extradata = extra_data['X'].transpose(3,0,1,2).astype('float32')\n",
        "# extralabel = extra_data['y']\n",
        "\n",
        "data_generator = ImageDataGenerator(preprocessing_function=preprocess_input, rescale=1./255)\n",
        "\n",
        "# train_generator      = data_generator.flow(traindata, trainlabel, batch_size=batch_size)\n",
        "# validation_generator = data_generator.flow(testdata, testlabel, batch_size=batch_size)\n",
        "# evaluation_generator = data_generator.flow(extradata, extralabel, batch_size=batch_size)\n",
        "\n",
        "# model.evaluate_generator(evaluation_generator, verbose=1)\n",
        "model.evaluate_generator(validation_generator, verbose=1)"
      ],
      "execution_count": 1,
      "outputs": [
        {
          "output_type": "error",
          "ename": "NameError",
          "evalue": "ignored",
          "traceback": [
            "\u001b[0;31m---------------------------------------------------------------------------\u001b[0m",
            "\u001b[0;31mNameError\u001b[0m                                 Traceback (most recent call last)",
            "\u001b[0;32m<ipython-input-1-463e88a54b11>\u001b[0m in \u001b[0;36m<module>\u001b[0;34m()\u001b[0m\n\u001b[0;32m----> 1\u001b[0;31m \u001b[0mtest_loss\u001b[0m\u001b[0;34m,\u001b[0m \u001b[0mtest_acc\u001b[0m \u001b[0;34m=\u001b[0m \u001b[0mmodel\u001b[0m\u001b[0;34m.\u001b[0m\u001b[0mevaluate\u001b[0m\u001b[0;34m(\u001b[0m\u001b[0mtestdata\u001b[0m\u001b[0;34m/\u001b[0m\u001b[0;36m255.\u001b[0m\u001b[0;34m,\u001b[0m \u001b[0mtestlabel\u001b[0m\u001b[0;34m)\u001b[0m\u001b[0;34m\u001b[0m\u001b[0;34m\u001b[0m\u001b[0m\n\u001b[0m\u001b[1;32m      2\u001b[0m \u001b[0mprint\u001b[0m\u001b[0;34m(\u001b[0m\u001b[0mtest_acc\u001b[0m\u001b[0;34m,\u001b[0m \u001b[0mtest_loss\u001b[0m\u001b[0;34m)\u001b[0m\u001b[0;34m\u001b[0m\u001b[0;34m\u001b[0m\u001b[0m\n\u001b[1;32m      3\u001b[0m \u001b[0;34m\u001b[0m\u001b[0m\n\u001b[1;32m      4\u001b[0m \u001b[0;34m\u001b[0m\u001b[0m\n\u001b[1;32m      5\u001b[0m \u001b[0mextradata\u001b[0m \u001b[0;34m=\u001b[0m \u001b[0mextra_data\u001b[0m\u001b[0;34m[\u001b[0m\u001b[0;34m'X'\u001b[0m\u001b[0;34m]\u001b[0m\u001b[0;34m.\u001b[0m\u001b[0mtranspose\u001b[0m\u001b[0;34m(\u001b[0m\u001b[0;36m3\u001b[0m\u001b[0;34m,\u001b[0m\u001b[0;36m0\u001b[0m\u001b[0;34m,\u001b[0m\u001b[0;36m1\u001b[0m\u001b[0;34m,\u001b[0m\u001b[0;36m2\u001b[0m\u001b[0;34m)\u001b[0m\u001b[0;34m.\u001b[0m\u001b[0mastype\u001b[0m\u001b[0;34m(\u001b[0m\u001b[0;34m'float32'\u001b[0m\u001b[0;34m)\u001b[0m\u001b[0;34m\u001b[0m\u001b[0;34m\u001b[0m\u001b[0m\n",
            "\u001b[0;31mNameError\u001b[0m: name 'model' is not defined"
          ]
        }
      ]
    }
  ]
}